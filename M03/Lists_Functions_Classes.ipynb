{
 "cells": [
  {
   "cell_type": "code",
   "execution_count": 2,
   "id": "424b0247",
   "metadata": {},
   "outputs": [
    {
     "name": "stdout",
     "output_type": "stream",
     "text": [
      "What type of vehicle is this? car\n",
      "What is the year? 1224\n",
      "Make? asd\n",
      "Model? dsa\n",
      "How many doors? 4\n",
      "Sun roof?(y/n) n\n",
      "Vehicle Type: car\n",
      "Year: 1224\n",
      "Make: asd\n",
      "Model:dsa\n",
      "Number of doors: 4\n",
      "Type of roof: Solid\n"
     ]
    }
   ],
   "source": [
    "# Corbyn Eaker\n",
    "# Lists_Functions_Classes.ipynb\n",
    "# This program takes user information and creates a car with it, then displays the car's information in an easy to read format\n",
    "\n",
    "# create the parent class Vehicle with type attribute\n",
    "class Vehicle:\n",
    "    def __init__(self, type):\n",
    "        self.type = type\n",
    "\n",
    "# create the child Automobile class which inherits from the Vehicle class\n",
    "class Automobile(Vehicle):\n",
    "    # give it all attributes I'll be asking for\n",
    "    def __init__(self, year, make, model, door, roof):\n",
    "        self.year = year\n",
    "        self.make = make\n",
    "        self.model = model\n",
    "        self.door = door\n",
    "        self.roof = roof\n",
    "    # fuction to call in order to print the automobile's information\n",
    "    def get_info(self):\n",
    "        print(\"Vehicle Type: \" + user_car.type)\n",
    "        print(\"Year: \" + user_car.year)\n",
    "        print(\"Make: \" + user_car.make)\n",
    "        print(\"Model:\" + user_car.model)\n",
    "        print(\"Number of doors: \" + user_car.door)\n",
    "        print(\"Type of roof: \" + user_car.roof)\n",
    "\n",
    "# collecting user input, storing them in variables\n",
    "user_type = input(\"What type of vehicle is this? \")\n",
    "user_year = input(\"What is the year? \")\n",
    "user_make = input(\"Make? \")\n",
    "user_model = input(\"Model? \")\n",
    "user_door = input(\"How many doors? \")\n",
    "roof_type = input(\"Sun roof?(y/n) \")\n",
    "\n",
    "# if statement to sort out the sun roof options\n",
    "if roof_type.lower() == \"y\":\n",
    "    user_roof = \"Sun roof\"\n",
    "elif roof_type.lower() == \"n\":\n",
    "    user_roof = \"Solid\"\n",
    "else:\n",
    "    user_roof = \"Unknown\"\n",
    "\n",
    "# creating the user's automobile, passing the collected inputs into the class parameters\n",
    "user_car = Automobile(user_year, user_make, user_model, user_door, user_roof)\n",
    "user_car.type = user_type\n",
    "\n",
    "# calling function to print automobile's information\n",
    "user_car.get_info()\n",
    "\n"
   ]
  },
  {
   "cell_type": "code",
   "execution_count": null,
   "id": "7a227a2f",
   "metadata": {},
   "outputs": [],
   "source": []
  },
  {
   "cell_type": "code",
   "execution_count": null,
   "id": "d5591927",
   "metadata": {},
   "outputs": [],
   "source": []
  },
  {
   "cell_type": "code",
   "execution_count": null,
   "id": "e95132a9",
   "metadata": {},
   "outputs": [],
   "source": []
  },
  {
   "cell_type": "code",
   "execution_count": null,
   "id": "657daf08",
   "metadata": {},
   "outputs": [],
   "source": []
  }
 ],
 "metadata": {
  "kernelspec": {
   "display_name": "Python 3 (ipykernel)",
   "language": "python",
   "name": "python3"
  },
  "language_info": {
   "codemirror_mode": {
    "name": "ipython",
    "version": 3
   },
   "file_extension": ".py",
   "mimetype": "text/x-python",
   "name": "python",
   "nbconvert_exporter": "python",
   "pygments_lexer": "ipython3",
   "version": "3.9.7"
  }
 },
 "nbformat": 4,
 "nbformat_minor": 5
}
