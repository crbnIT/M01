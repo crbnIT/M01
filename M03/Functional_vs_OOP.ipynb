{
 "cells": [
  {
   "cell_type": "code",
   "execution_count": 1,
   "id": "94ef32b1",
   "metadata": {},
   "outputs": [
    {
     "name": "stdout",
     "output_type": "stream",
     "text": [
      "<class '__main__.Thing'>\n",
      "<__main__.Thing object at 0x00000233CB9A0160>\n"
     ]
    }
   ],
   "source": [
    "# 10.1\n",
    "# Creating then printing class Thing\n",
    "class Thing:\n",
    "    pass\n",
    "print(Thing)\n",
    "# creating and printing an object from class thing\n",
    "example = Thing()\n",
    "print(example)\n",
    "# printed values are different. it prints the class vs the location of the instance of the class\n"
   ]
  },
  {
   "cell_type": "code",
   "execution_count": 2,
   "id": "6e0adece",
   "metadata": {},
   "outputs": [
    {
     "name": "stdout",
     "output_type": "stream",
     "text": [
      "Hydrogen\n",
      "H\n",
      "1\n"
     ]
    }
   ],
   "source": [
    "# 10.4\n",
    "# Creating class Element\n",
    "class Element:\n",
    "    # setting up initialization function\n",
    "    def __init__(self, name, symbol, number):\n",
    "        # setting attributes\n",
    "        self.name = name\n",
    "        self.symbol = symbol\n",
    "        self.number = number\n",
    "# creating instance of Element\n",
    "hydrogen = Element(\"Hydrogen\", \"H\", 1)\n",
    "# printing the attributes\n",
    "print(hydrogen.name)\n",
    "print(hydrogen.symbol)\n",
    "print(hydrogen.number)"
   ]
  },
  {
   "cell_type": "code",
   "execution_count": 3,
   "id": "beab057b",
   "metadata": {},
   "outputs": [
    {
     "name": "stdout",
     "output_type": "stream",
     "text": [
      "Hydrogen\n",
      "H\n",
      "1\n"
     ]
    }
   ],
   "source": [
    "# 10.5\n",
    "# creating the dictionary\n",
    "dict1 = {\n",
    "    \"name\": \"Hydrogen\",\n",
    "    \"symbol\": \"H\",\n",
    "    \"number\": 1\n",
    "}\n",
    "# creating second instance of Element, this time using dictionary values to set attributes\n",
    "hydrogen2 = Element(dict1[\"name\"], dict1[\"symbol\"], dict1[\"number\"])\n",
    "# printing the attributes\n",
    "print(hydrogen2.name)\n",
    "print(hydrogen2.symbol)\n",
    "print(hydrogen2.number)"
   ]
  },
  {
   "cell_type": "code",
   "execution_count": 4,
   "id": "3f40ead6",
   "metadata": {},
   "outputs": [
    {
     "name": "stdout",
     "output_type": "stream",
     "text": [
      "Berries\n",
      "Clover\n",
      "Campers\n"
     ]
    }
   ],
   "source": [
    "# 10.9\n",
    "# Creating a class for bear, bunny and octothorpe\n",
    "class Bear:\n",
    "    # creating the eats() method\n",
    "    def eats(self):\n",
    "        print(\"Berries\")\n",
    "class Rabbit:\n",
    "    # creating the eats() method\n",
    "    def eats(self):\n",
    "        print(\"Clover\")\n",
    "class Octothorpe:\n",
    "    # creating the eats() method\n",
    "    def eats(self):\n",
    "        print(\"Campers\")\n",
    "# Creating instances of each different class\n",
    "ted = Bear()\n",
    "bunny = Rabbit()\n",
    "hashtag = Octothorpe()\n",
    "# Calling the eats() method for each instance\n",
    "ted.eats()\n",
    "bunny.eats()\n",
    "hashtag.eats()\n"
   ]
  },
  {
   "cell_type": "code",
   "execution_count": null,
   "id": "7f5d567b",
   "metadata": {},
   "outputs": [],
   "source": []
  }
 ],
 "metadata": {
  "kernelspec": {
   "display_name": "Python 3 (ipykernel)",
   "language": "python",
   "name": "python3"
  },
  "language_info": {
   "codemirror_mode": {
    "name": "ipython",
    "version": 3
   },
   "file_extension": ".py",
   "mimetype": "text/x-python",
   "name": "python",
   "nbconvert_exporter": "python",
   "pygments_lexer": "ipython3",
   "version": "3.9.7"
  }
 },
 "nbformat": 4,
 "nbformat_minor": 5
}
